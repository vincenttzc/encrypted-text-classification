{
  "nbformat": 4,
  "nbformat_minor": 0,
  "metadata": {
    "colab": {
      "name": "experiments.ipynb",
      "provenance": [],
      "collapsed_sections": [],
      "toc_visible": true
    },
    "kernelspec": {
      "name": "python3",
      "display_name": "Python 3"
    },
    "language_info": {
      "name": "python"
    },
    "accelerator": "GPU",
    "widgets": {
      "application/vnd.jupyter.widget-state+json": {
        "4f22db891f4b4ac7af20bd8b83287db7": {
          "model_module": "@jupyter-widgets/controls",
          "model_name": "VBoxModel",
          "state": {
            "_view_name": "VBoxView",
            "_dom_classes": [],
            "_model_name": "VBoxModel",
            "_view_module": "@jupyter-widgets/controls",
            "_model_module_version": "1.5.0",
            "_view_count": null,
            "_view_module_version": "1.5.0",
            "box_style": "",
            "layout": "IPY_MODEL_2ed0f55c39c046e59bcb2ddb0934f006",
            "_model_module": "@jupyter-widgets/controls",
            "children": [
              "IPY_MODEL_7064d6e126d74134a784601d0f926147",
              "IPY_MODEL_b0d9a4638fa446878197302f078aa52a"
            ]
          }
        },
        "2ed0f55c39c046e59bcb2ddb0934f006": {
          "model_module": "@jupyter-widgets/base",
          "model_name": "LayoutModel",
          "state": {
            "_view_name": "LayoutView",
            "grid_template_rows": null,
            "right": null,
            "justify_content": null,
            "_view_module": "@jupyter-widgets/base",
            "overflow": null,
            "_model_module_version": "1.2.0",
            "_view_count": null,
            "flex_flow": null,
            "width": null,
            "min_width": null,
            "border": null,
            "align_items": null,
            "bottom": null,
            "_model_module": "@jupyter-widgets/base",
            "top": null,
            "grid_column": null,
            "overflow_y": null,
            "overflow_x": null,
            "grid_auto_flow": null,
            "grid_area": null,
            "grid_template_columns": null,
            "flex": null,
            "_model_name": "LayoutModel",
            "justify_items": null,
            "grid_row": null,
            "max_height": null,
            "align_content": null,
            "visibility": null,
            "align_self": null,
            "height": null,
            "min_height": null,
            "padding": null,
            "grid_auto_rows": null,
            "grid_gap": null,
            "max_width": null,
            "order": null,
            "_view_module_version": "1.2.0",
            "grid_template_areas": null,
            "object_position": null,
            "object_fit": null,
            "grid_auto_columns": null,
            "margin": null,
            "display": null,
            "left": null
          }
        },
        "7064d6e126d74134a784601d0f926147": {
          "model_module": "@jupyter-widgets/controls",
          "model_name": "LabelModel",
          "state": {
            "_view_name": "LabelView",
            "style": "IPY_MODEL_449d85378f0d45fbbb88ed04d4402556",
            "_dom_classes": [],
            "description": "",
            "_model_name": "LabelModel",
            "placeholder": "​",
            "_view_module": "@jupyter-widgets/controls",
            "_model_module_version": "1.5.0",
            "value": " 30.61MB of 30.61MB uploaded (0.00MB deduped)\r",
            "_view_count": null,
            "_view_module_version": "1.5.0",
            "description_tooltip": null,
            "_model_module": "@jupyter-widgets/controls",
            "layout": "IPY_MODEL_09242f403a2040ee9103ed28abe0fdf2"
          }
        },
        "b0d9a4638fa446878197302f078aa52a": {
          "model_module": "@jupyter-widgets/controls",
          "model_name": "FloatProgressModel",
          "state": {
            "_view_name": "ProgressView",
            "style": "IPY_MODEL_67b8887a1ea34ba9b78889e75c8ce83d",
            "_dom_classes": [],
            "description": "",
            "_model_name": "FloatProgressModel",
            "bar_style": "",
            "max": 1,
            "_view_module": "@jupyter-widgets/controls",
            "_model_module_version": "1.5.0",
            "value": 1,
            "_view_count": null,
            "_view_module_version": "1.5.0",
            "orientation": "horizontal",
            "min": 0,
            "description_tooltip": null,
            "_model_module": "@jupyter-widgets/controls",
            "layout": "IPY_MODEL_91f4aa94eb954145be251ba12db853a8"
          }
        },
        "449d85378f0d45fbbb88ed04d4402556": {
          "model_module": "@jupyter-widgets/controls",
          "model_name": "DescriptionStyleModel",
          "state": {
            "_view_name": "StyleView",
            "_model_name": "DescriptionStyleModel",
            "description_width": "",
            "_view_module": "@jupyter-widgets/base",
            "_model_module_version": "1.5.0",
            "_view_count": null,
            "_view_module_version": "1.2.0",
            "_model_module": "@jupyter-widgets/controls"
          }
        },
        "09242f403a2040ee9103ed28abe0fdf2": {
          "model_module": "@jupyter-widgets/base",
          "model_name": "LayoutModel",
          "state": {
            "_view_name": "LayoutView",
            "grid_template_rows": null,
            "right": null,
            "justify_content": null,
            "_view_module": "@jupyter-widgets/base",
            "overflow": null,
            "_model_module_version": "1.2.0",
            "_view_count": null,
            "flex_flow": null,
            "width": null,
            "min_width": null,
            "border": null,
            "align_items": null,
            "bottom": null,
            "_model_module": "@jupyter-widgets/base",
            "top": null,
            "grid_column": null,
            "overflow_y": null,
            "overflow_x": null,
            "grid_auto_flow": null,
            "grid_area": null,
            "grid_template_columns": null,
            "flex": null,
            "_model_name": "LayoutModel",
            "justify_items": null,
            "grid_row": null,
            "max_height": null,
            "align_content": null,
            "visibility": null,
            "align_self": null,
            "height": null,
            "min_height": null,
            "padding": null,
            "grid_auto_rows": null,
            "grid_gap": null,
            "max_width": null,
            "order": null,
            "_view_module_version": "1.2.0",
            "grid_template_areas": null,
            "object_position": null,
            "object_fit": null,
            "grid_auto_columns": null,
            "margin": null,
            "display": null,
            "left": null
          }
        },
        "67b8887a1ea34ba9b78889e75c8ce83d": {
          "model_module": "@jupyter-widgets/controls",
          "model_name": "ProgressStyleModel",
          "state": {
            "_view_name": "StyleView",
            "_model_name": "ProgressStyleModel",
            "description_width": "",
            "_view_module": "@jupyter-widgets/base",
            "_model_module_version": "1.5.0",
            "_view_count": null,
            "_view_module_version": "1.2.0",
            "bar_color": null,
            "_model_module": "@jupyter-widgets/controls"
          }
        },
        "91f4aa94eb954145be251ba12db853a8": {
          "model_module": "@jupyter-widgets/base",
          "model_name": "LayoutModel",
          "state": {
            "_view_name": "LayoutView",
            "grid_template_rows": null,
            "right": null,
            "justify_content": null,
            "_view_module": "@jupyter-widgets/base",
            "overflow": null,
            "_model_module_version": "1.2.0",
            "_view_count": null,
            "flex_flow": null,
            "width": null,
            "min_width": null,
            "border": null,
            "align_items": null,
            "bottom": null,
            "_model_module": "@jupyter-widgets/base",
            "top": null,
            "grid_column": null,
            "overflow_y": null,
            "overflow_x": null,
            "grid_auto_flow": null,
            "grid_area": null,
            "grid_template_columns": null,
            "flex": null,
            "_model_name": "LayoutModel",
            "justify_items": null,
            "grid_row": null,
            "max_height": null,
            "align_content": null,
            "visibility": null,
            "align_self": null,
            "height": null,
            "min_height": null,
            "padding": null,
            "grid_auto_rows": null,
            "grid_gap": null,
            "max_width": null,
            "order": null,
            "_view_module_version": "1.2.0",
            "grid_template_areas": null,
            "object_position": null,
            "object_fit": null,
            "grid_auto_columns": null,
            "margin": null,
            "display": null,
            "left": null
          }
        },
        "78ba6046efcf41f38071f0d7b9099fd7": {
          "model_module": "@jupyter-widgets/controls",
          "model_name": "VBoxModel",
          "state": {
            "_view_name": "VBoxView",
            "_dom_classes": [],
            "_model_name": "VBoxModel",
            "_view_module": "@jupyter-widgets/controls",
            "_model_module_version": "1.5.0",
            "_view_count": null,
            "_view_module_version": "1.5.0",
            "box_style": "",
            "layout": "IPY_MODEL_05faa5aef0fe46baa7e47b0fdddf9dab",
            "_model_module": "@jupyter-widgets/controls",
            "children": [
              "IPY_MODEL_bec1d56604c04541b2e1140748aab676",
              "IPY_MODEL_0a5997ab059c42759b2e89998a98c9d1"
            ]
          }
        },
        "05faa5aef0fe46baa7e47b0fdddf9dab": {
          "model_module": "@jupyter-widgets/base",
          "model_name": "LayoutModel",
          "state": {
            "_view_name": "LayoutView",
            "grid_template_rows": null,
            "right": null,
            "justify_content": null,
            "_view_module": "@jupyter-widgets/base",
            "overflow": null,
            "_model_module_version": "1.2.0",
            "_view_count": null,
            "flex_flow": null,
            "width": null,
            "min_width": null,
            "border": null,
            "align_items": null,
            "bottom": null,
            "_model_module": "@jupyter-widgets/base",
            "top": null,
            "grid_column": null,
            "overflow_y": null,
            "overflow_x": null,
            "grid_auto_flow": null,
            "grid_area": null,
            "grid_template_columns": null,
            "flex": null,
            "_model_name": "LayoutModel",
            "justify_items": null,
            "grid_row": null,
            "max_height": null,
            "align_content": null,
            "visibility": null,
            "align_self": null,
            "height": null,
            "min_height": null,
            "padding": null,
            "grid_auto_rows": null,
            "grid_gap": null,
            "max_width": null,
            "order": null,
            "_view_module_version": "1.2.0",
            "grid_template_areas": null,
            "object_position": null,
            "object_fit": null,
            "grid_auto_columns": null,
            "margin": null,
            "display": null,
            "left": null
          }
        },
        "bec1d56604c04541b2e1140748aab676": {
          "model_module": "@jupyter-widgets/controls",
          "model_name": "LabelModel",
          "state": {
            "_view_name": "LabelView",
            "style": "IPY_MODEL_4e49a92f0107417ba91cc6b00efe7653",
            "_dom_classes": [],
            "description": "",
            "_model_name": "LabelModel",
            "placeholder": "​",
            "_view_module": "@jupyter-widgets/controls",
            "_model_module_version": "1.5.0",
            "value": " 0.28MB of 0.28MB uploaded (0.00MB deduped)\r",
            "_view_count": null,
            "_view_module_version": "1.5.0",
            "description_tooltip": null,
            "_model_module": "@jupyter-widgets/controls",
            "layout": "IPY_MODEL_7eb5c5a983f84b8ea93948932cdd6ccc"
          }
        },
        "0a5997ab059c42759b2e89998a98c9d1": {
          "model_module": "@jupyter-widgets/controls",
          "model_name": "FloatProgressModel",
          "state": {
            "_view_name": "ProgressView",
            "style": "IPY_MODEL_e73b79c0e2e54ff6b9251a14f2b59898",
            "_dom_classes": [],
            "description": "",
            "_model_name": "FloatProgressModel",
            "bar_style": "",
            "max": 1,
            "_view_module": "@jupyter-widgets/controls",
            "_model_module_version": "1.5.0",
            "value": 1,
            "_view_count": null,
            "_view_module_version": "1.5.0",
            "orientation": "horizontal",
            "min": 0,
            "description_tooltip": null,
            "_model_module": "@jupyter-widgets/controls",
            "layout": "IPY_MODEL_1586c99f1f8f4cfbad160831ed7eb21b"
          }
        },
        "4e49a92f0107417ba91cc6b00efe7653": {
          "model_module": "@jupyter-widgets/controls",
          "model_name": "DescriptionStyleModel",
          "state": {
            "_view_name": "StyleView",
            "_model_name": "DescriptionStyleModel",
            "description_width": "",
            "_view_module": "@jupyter-widgets/base",
            "_model_module_version": "1.5.0",
            "_view_count": null,
            "_view_module_version": "1.2.0",
            "_model_module": "@jupyter-widgets/controls"
          }
        },
        "7eb5c5a983f84b8ea93948932cdd6ccc": {
          "model_module": "@jupyter-widgets/base",
          "model_name": "LayoutModel",
          "state": {
            "_view_name": "LayoutView",
            "grid_template_rows": null,
            "right": null,
            "justify_content": null,
            "_view_module": "@jupyter-widgets/base",
            "overflow": null,
            "_model_module_version": "1.2.0",
            "_view_count": null,
            "flex_flow": null,
            "width": null,
            "min_width": null,
            "border": null,
            "align_items": null,
            "bottom": null,
            "_model_module": "@jupyter-widgets/base",
            "top": null,
            "grid_column": null,
            "overflow_y": null,
            "overflow_x": null,
            "grid_auto_flow": null,
            "grid_area": null,
            "grid_template_columns": null,
            "flex": null,
            "_model_name": "LayoutModel",
            "justify_items": null,
            "grid_row": null,
            "max_height": null,
            "align_content": null,
            "visibility": null,
            "align_self": null,
            "height": null,
            "min_height": null,
            "padding": null,
            "grid_auto_rows": null,
            "grid_gap": null,
            "max_width": null,
            "order": null,
            "_view_module_version": "1.2.0",
            "grid_template_areas": null,
            "object_position": null,
            "object_fit": null,
            "grid_auto_columns": null,
            "margin": null,
            "display": null,
            "left": null
          }
        },
        "e73b79c0e2e54ff6b9251a14f2b59898": {
          "model_module": "@jupyter-widgets/controls",
          "model_name": "ProgressStyleModel",
          "state": {
            "_view_name": "StyleView",
            "_model_name": "ProgressStyleModel",
            "description_width": "",
            "_view_module": "@jupyter-widgets/base",
            "_model_module_version": "1.5.0",
            "_view_count": null,
            "_view_module_version": "1.2.0",
            "bar_color": null,
            "_model_module": "@jupyter-widgets/controls"
          }
        },
        "1586c99f1f8f4cfbad160831ed7eb21b": {
          "model_module": "@jupyter-widgets/base",
          "model_name": "LayoutModel",
          "state": {
            "_view_name": "LayoutView",
            "grid_template_rows": null,
            "right": null,
            "justify_content": null,
            "_view_module": "@jupyter-widgets/base",
            "overflow": null,
            "_model_module_version": "1.2.0",
            "_view_count": null,
            "flex_flow": null,
            "width": null,
            "min_width": null,
            "border": null,
            "align_items": null,
            "bottom": null,
            "_model_module": "@jupyter-widgets/base",
            "top": null,
            "grid_column": null,
            "overflow_y": null,
            "overflow_x": null,
            "grid_auto_flow": null,
            "grid_area": null,
            "grid_template_columns": null,
            "flex": null,
            "_model_name": "LayoutModel",
            "justify_items": null,
            "grid_row": null,
            "max_height": null,
            "align_content": null,
            "visibility": null,
            "align_self": null,
            "height": null,
            "min_height": null,
            "padding": null,
            "grid_auto_rows": null,
            "grid_gap": null,
            "max_width": null,
            "order": null,
            "_view_module_version": "1.2.0",
            "grid_template_areas": null,
            "object_position": null,
            "object_fit": null,
            "grid_auto_columns": null,
            "margin": null,
            "display": null,
            "left": null
          }
        }
      }
    }
  },
  "cells": [
    {
      "cell_type": "markdown",
      "metadata": {
        "id": "tf2lxu05Y5Rw"
      },
      "source": [
        "# Experiments"
      ]
    },
    {
      "cell_type": "code",
      "metadata": {
        "colab": {
          "base_uri": "https://localhost:8080/"
        },
        "id": "PmAl5KWzHPrT",
        "outputId": "cae88432-e95d-4404-8e4f-eab529b290c6"
      },
      "source": [
        "from google.colab import drive\n",
        "drive.mount('/content/drive')"
      ],
      "execution_count": 1,
      "outputs": [
        {
          "output_type": "stream",
          "text": [
            "Drive already mounted at /content/drive; to attempt to forcibly remount, call drive.mount(\"/content/drive\", force_remount=True).\n"
          ],
          "name": "stdout"
        }
      ]
    },
    {
      "cell_type": "code",
      "metadata": {
        "id": "3RNXD-wNuFgD",
        "colab": {
          "base_uri": "https://localhost:8080/"
        },
        "outputId": "3c3a2ae0-d1d4-4e02-84f5-aa30e425f021"
      },
      "source": [
        "import sys\n",
        "sys.path.append('/content/drive/MyDrive/encrypted_text_proj')\n",
        "!pip install wandb"
      ],
      "execution_count": 2,
      "outputs": [
        {
          "output_type": "stream",
          "text": [
            "Requirement already satisfied: wandb in /usr/local/lib/python3.7/dist-packages (0.10.31)\n",
            "Requirement already satisfied: promise<3,>=2.0 in /usr/local/lib/python3.7/dist-packages (from wandb) (2.3)\n",
            "Requirement already satisfied: pathtools in /usr/local/lib/python3.7/dist-packages (from wandb) (0.1.2)\n",
            "Requirement already satisfied: requests<3,>=2.0.0 in /usr/local/lib/python3.7/dist-packages (from wandb) (2.23.0)\n",
            "Requirement already satisfied: six>=1.13.0 in /usr/local/lib/python3.7/dist-packages (from wandb) (1.15.0)\n",
            "Requirement already satisfied: sentry-sdk>=0.4.0 in /usr/local/lib/python3.7/dist-packages (from wandb) (1.1.0)\n",
            "Requirement already satisfied: PyYAML in /usr/local/lib/python3.7/dist-packages (from wandb) (3.13)\n",
            "Requirement already satisfied: docker-pycreds>=0.4.0 in /usr/local/lib/python3.7/dist-packages (from wandb) (0.4.0)\n",
            "Requirement already satisfied: shortuuid>=0.5.0 in /usr/local/lib/python3.7/dist-packages (from wandb) (1.0.1)\n",
            "Requirement already satisfied: configparser>=3.8.1 in /usr/local/lib/python3.7/dist-packages (from wandb) (5.0.2)\n",
            "Requirement already satisfied: subprocess32>=3.5.3 in /usr/local/lib/python3.7/dist-packages (from wandb) (3.5.4)\n",
            "Requirement already satisfied: psutil>=5.0.0 in /usr/local/lib/python3.7/dist-packages (from wandb) (5.4.8)\n",
            "Requirement already satisfied: python-dateutil>=2.6.1 in /usr/local/lib/python3.7/dist-packages (from wandb) (2.8.1)\n",
            "Requirement already satisfied: protobuf>=3.12.0 in /usr/local/lib/python3.7/dist-packages (from wandb) (3.12.4)\n",
            "Requirement already satisfied: Click>=7.0 in /usr/local/lib/python3.7/dist-packages (from wandb) (7.1.2)\n",
            "Requirement already satisfied: GitPython>=1.0.0 in /usr/local/lib/python3.7/dist-packages (from wandb) (3.1.17)\n",
            "Requirement already satisfied: idna<3,>=2.5 in /usr/local/lib/python3.7/dist-packages (from requests<3,>=2.0.0->wandb) (2.10)\n",
            "Requirement already satisfied: certifi>=2017.4.17 in /usr/local/lib/python3.7/dist-packages (from requests<3,>=2.0.0->wandb) (2020.12.5)\n",
            "Requirement already satisfied: urllib3!=1.25.0,!=1.25.1,<1.26,>=1.21.1 in /usr/local/lib/python3.7/dist-packages (from requests<3,>=2.0.0->wandb) (1.24.3)\n",
            "Requirement already satisfied: chardet<4,>=3.0.2 in /usr/local/lib/python3.7/dist-packages (from requests<3,>=2.0.0->wandb) (3.0.4)\n",
            "Requirement already satisfied: setuptools in /usr/local/lib/python3.7/dist-packages (from protobuf>=3.12.0->wandb) (56.1.0)\n",
            "Requirement already satisfied: gitdb<5,>=4.0.1 in /usr/local/lib/python3.7/dist-packages (from GitPython>=1.0.0->wandb) (4.0.7)\n",
            "Requirement already satisfied: typing-extensions>=3.7.4.0; python_version < \"3.8\" in /usr/local/lib/python3.7/dist-packages (from GitPython>=1.0.0->wandb) (3.7.4.3)\n",
            "Requirement already satisfied: smmap<5,>=3.0.1 in /usr/local/lib/python3.7/dist-packages (from gitdb<5,>=4.0.1->GitPython>=1.0.0->wandb) (4.0.0)\n"
          ],
          "name": "stdout"
        }
      ]
    },
    {
      "cell_type": "code",
      "metadata": {
        "id": "hhlUgjDwungj"
      },
      "source": [
        "import os\n",
        "\n",
        "import wandb\n",
        "import numpy as np\n",
        "import pandas as pd\n",
        "import tensorflow as tf\n",
        "import matplotlib.pyplot as plt\n",
        "import random as python_random\n",
        "from wandb.keras import WandbCallback\n",
        "from sklearn.model_selection import train_test_split\n",
        "from tensorflow.keras.models import Model\n",
        "from tensorflow.keras.callbacks import EarlyStopping\n",
        "from tensorflow.keras.optimizers import Adam\n",
        "\n",
        "from src.datapipeline import Datapipeline\n",
        "from src.conv1dmodel import Conv1DModel\n",
        "from src.bilstmmodel import BiLSTMModel\n",
        "from src.postprocess import add_prediction_to_test_data\n",
        "\n",
        "%load_ext autoreload\n",
        "%autoreload 2\n",
        "\n",
        "# Set the random seeds\n",
        "os.environ['TF_CUDNN_DETERMINISTIC'] = '1' \n",
        "python_random.seed(hash(\"setting random seeds\") % 2**32 - 1)\n",
        "np.random.seed(hash(\"improves reproducibility\") % 2**32 - 1)\n",
        "tf.random.set_seed(hash(\"by removing stochasticity\") % 2**32 - 1)"
      ],
      "execution_count": 3,
      "outputs": []
    },
    {
      "cell_type": "code",
      "metadata": {
        "colab": {
          "base_uri": "https://localhost:8080/"
        },
        "id": "OtFIi367AzH9",
        "outputId": "f96d9ffc-ff32-44be-c8f1-dc00cbf29aaa"
      },
      "source": [
        "!wandb login"
      ],
      "execution_count": 4,
      "outputs": [
        {
          "output_type": "stream",
          "text": [
            "\u001b[34m\u001b[1mwandb\u001b[0m: You can find your API key in your browser here: https://wandb.ai/authorize\n",
            "\u001b[34m\u001b[1mwandb\u001b[0m: Paste an API key from your profile and hit enter: \n",
            "\u001b[34m\u001b[1mwandb\u001b[0m: Appending key for api.wandb.ai to your netrc file: /root/.netrc\n"
          ],
          "name": "stdout"
        }
      ]
    },
    {
      "cell_type": "code",
      "metadata": {
        "id": "TlBWCujou0ZH"
      },
      "source": [
        "train_path = '/content/drive/MyDrive/encrypted_text_proj/data/train.csv'\n",
        "test_path = '/content/drive/MyDrive/encrypted_text_proj/data/test.csv'\n",
        "max_sequence_len = 250\n",
        "label_mapping = { \"class_1\": 0, \"class_2\": 1, \"class_3\": 2 }\n",
        "\n",
        "train_df = pd.read_csv(train_path)\n",
        "test_df = pd.read_csv(test_path)\n",
        "\n",
        "# train val split\n",
        "test_size = 0.25\n",
        "random_state = 0\n",
        "train_data, val_data = train_test_split(train_df, \n",
        "                                        test_size=test_size, \n",
        "                                        random_state=random_state, \n",
        "                                        shuffle=True)\n",
        "\n",
        "# Preprocess data\n",
        "datapipeline = Datapipeline(max_sequence_len, label_mapping)\n",
        "X_train, y_train = datapipeline.transform_train_data(train_data)\n",
        "X_val, y_val = datapipeline.transform_test_data(val_data, is_validation=True)"
      ],
      "execution_count": 5,
      "outputs": []
    },
    {
      "cell_type": "markdown",
      "metadata": {
        "id": "kCMeEhYa-0o2"
      },
      "source": [
        "# 1D CNN"
      ]
    },
    {
      "cell_type": "code",
      "metadata": {
        "colab": {
          "base_uri": "https://localhost:8080/",
          "height": 1000,
          "referenced_widgets": [
            "4f22db891f4b4ac7af20bd8b83287db7",
            "2ed0f55c39c046e59bcb2ddb0934f006",
            "7064d6e126d74134a784601d0f926147",
            "b0d9a4638fa446878197302f078aa52a",
            "449d85378f0d45fbbb88ed04d4402556",
            "09242f403a2040ee9103ed28abe0fdf2",
            "67b8887a1ea34ba9b78889e75c8ce83d",
            "91f4aa94eb954145be251ba12db853a8"
          ]
        },
        "id": "ylPBgXoqBiG5",
        "outputId": "be49278e-3c15-4fc7-8e09-b18afcb3176b"
      },
      "source": [
        "config = {'optimizer':'adam',\n",
        "          'learning_rate': 0.002,\n",
        "          'loss': 'sparse_categorical_crossentropy',\n",
        "          'batch_size': 32,\n",
        "          'epochs': 50,\n",
        "          'model_params':{'input_size': max_sequence_len,\n",
        "                          'num_classes': 3,\n",
        "                          'embedding_size': 50,\n",
        "                          'dropout_p': 0.5,\n",
        "                          'vocab_size': 38,\n",
        "                          'batch_normalisation': True,\n",
        "                          'conv_layers': [[32,3,-1], [32 ,3,-1],[32 ,3,-1]],\n",
        "                          'dense_layers': [1024]}}\n",
        "run = wandb.init(project='encrypt_text_1dcnn', config=config)\n",
        "config = wandb.config \n",
        "\n",
        "\n",
        "# Initialize model like you usually do.\n",
        "tf.keras.backend.clear_session()\n",
        "\n",
        "model = Conv1DModel(**config['model_params'])\n",
        "model = model.build_model()\n",
        "optimizer = Adam(learning_rate=config['learning_rate'])\n",
        "model.compile(optimizer=optimizer, \n",
        "              loss=config['loss'], \n",
        "              metrics=['accuracy'])\n",
        "model.summary()\n",
        "\n",
        "# callbacks\n",
        "early_stopping = EarlyStopping(monitor='val_accuracy', patience=10)\n",
        "wandb_callback = WandbCallback(monitor='val_accuracy',save_weights_only=True)\n",
        "\n",
        "# Training\n",
        "history = model.fit(X_train, \n",
        "                    y_train,\n",
        "                    validation_data=(X_val,y_val),\n",
        "                    batch_size=config['batch_size'],\n",
        "                    epochs=config['epochs'],\n",
        "                    callbacks=[wandb_callback, early_stopping])\n",
        "\n",
        "run.join()"
      ],
      "execution_count": 6,
      "outputs": [
        {
          "output_type": "stream",
          "text": [
            "\u001b[34m\u001b[1mwandb\u001b[0m: Currently logged in as: \u001b[33mvtzc630\u001b[0m (use `wandb login --relogin` to force relogin)\n"
          ],
          "name": "stderr"
        },
        {
          "output_type": "display_data",
          "data": {
            "text/html": [
              "\n",
              "                Tracking run with wandb version 0.10.31<br/>\n",
              "                Syncing run <strong style=\"color:#cdcd00\">spring-star-1</strong> to <a href=\"https://wandb.ai\" target=\"_blank\">Weights & Biases</a> <a href=\"https://docs.wandb.com/integrations/jupyter.html\" target=\"_blank\">(Documentation)</a>.<br/>\n",
              "                Project page: <a href=\"https://wandb.ai/vtzc630/encrypt_text_1dcnn\" target=\"_blank\">https://wandb.ai/vtzc630/encrypt_text_1dcnn</a><br/>\n",
              "                Run page: <a href=\"https://wandb.ai/vtzc630/encrypt_text_1dcnn/runs/2ajr0p2p\" target=\"_blank\">https://wandb.ai/vtzc630/encrypt_text_1dcnn/runs/2ajr0p2p</a><br/>\n",
              "                Run data is saved locally in <code>/content/wandb/run-20210530_120027-2ajr0p2p</code><br/><br/>\n",
              "            "
            ],
            "text/plain": [
              "<IPython.core.display.HTML object>"
            ]
          },
          "metadata": {
            "tags": []
          }
        },
        {
          "output_type": "stream",
          "text": [
            "Model: \"model\"\n",
            "_________________________________________________________________\n",
            "Layer (type)                 Output Shape              Param #   \n",
            "=================================================================\n",
            "input_1 (InputLayer)         [(None, 250)]             0         \n",
            "_________________________________________________________________\n",
            "embedding (Embedding)        (None, 250, 50)           1900      \n",
            "_________________________________________________________________\n",
            "conv1d (Conv1D)              (None, 248, 32)           4832      \n",
            "_________________________________________________________________\n",
            "conv1d_1 (Conv1D)            (None, 246, 32)           3104      \n",
            "_________________________________________________________________\n",
            "conv1d_2 (Conv1D)            (None, 244, 32)           3104      \n",
            "_________________________________________________________________\n",
            "batch_normalization (BatchNo (None, 244, 32)           128       \n",
            "_________________________________________________________________\n",
            "flatten (Flatten)            (None, 7808)              0         \n",
            "_________________________________________________________________\n",
            "dense (Dense)                (None, 1024)              7996416   \n",
            "_________________________________________________________________\n",
            "dropout (Dropout)            (None, 1024)              0         \n",
            "_________________________________________________________________\n",
            "dense_1 (Dense)              (None, 3)                 3075      \n",
            "=================================================================\n",
            "Total params: 8,012,559\n",
            "Trainable params: 8,012,495\n",
            "Non-trainable params: 64\n",
            "_________________________________________________________________\n",
            "Epoch 1/50\n",
            "394/394 [==============================] - 36s 10ms/step - loss: 1.1072 - accuracy: 0.3788 - val_loss: 1.1556 - val_accuracy: 0.3634\n",
            "Epoch 2/50\n",
            "394/394 [==============================] - 3s 9ms/step - loss: 1.0770 - accuracy: 0.4029 - val_loss: 1.4687 - val_accuracy: 0.3325\n",
            "Epoch 3/50\n",
            "394/394 [==============================] - 3s 9ms/step - loss: 1.0591 - accuracy: 0.4246 - val_loss: 1.1212 - val_accuracy: 0.3746\n",
            "Epoch 4/50\n",
            "394/394 [==============================] - 3s 9ms/step - loss: 1.0190 - accuracy: 0.4629 - val_loss: 1.4344 - val_accuracy: 0.3765\n",
            "Epoch 5/50\n",
            "394/394 [==============================] - 3s 9ms/step - loss: 0.9544 - accuracy: 0.5065 - val_loss: 4.9267 - val_accuracy: 0.3868\n",
            "Epoch 6/50\n",
            "394/394 [==============================] - 3s 9ms/step - loss: 0.8772 - accuracy: 0.5660 - val_loss: 1.2483 - val_accuracy: 0.4613\n",
            "Epoch 7/50\n",
            "394/394 [==============================] - 3s 9ms/step - loss: 0.8073 - accuracy: 0.6107 - val_loss: 1.9253 - val_accuracy: 0.4437\n",
            "Epoch 8/50\n",
            "394/394 [==============================] - 3s 9ms/step - loss: 0.7155 - accuracy: 0.6705 - val_loss: 1.5234 - val_accuracy: 0.5135\n",
            "Epoch 9/50\n",
            "394/394 [==============================] - 3s 9ms/step - loss: 0.6404 - accuracy: 0.7124 - val_loss: 1.9915 - val_accuracy: 0.5366\n",
            "Epoch 10/50\n",
            "394/394 [==============================] - 3s 9ms/step - loss: 0.5686 - accuracy: 0.7497 - val_loss: 1.0289 - val_accuracy: 0.5963\n",
            "Epoch 11/50\n",
            "394/394 [==============================] - 3s 9ms/step - loss: 0.4980 - accuracy: 0.7874 - val_loss: 1.6433 - val_accuracy: 0.6068\n",
            "Epoch 12/50\n",
            "394/394 [==============================] - 3s 9ms/step - loss: 0.4609 - accuracy: 0.8089 - val_loss: 1.5728 - val_accuracy: 0.6166\n",
            "Epoch 13/50\n",
            "394/394 [==============================] - 3s 9ms/step - loss: 0.4191 - accuracy: 0.8260 - val_loss: 1.6080 - val_accuracy: 0.6609\n",
            "Epoch 14/50\n",
            "394/394 [==============================] - 3s 9ms/step - loss: 0.3690 - accuracy: 0.8499 - val_loss: 1.7779 - val_accuracy: 0.6580\n",
            "Epoch 15/50\n",
            "394/394 [==============================] - 3s 9ms/step - loss: 0.3706 - accuracy: 0.8596 - val_loss: 1.5686 - val_accuracy: 0.6454\n",
            "Epoch 16/50\n",
            "394/394 [==============================] - 3s 9ms/step - loss: 0.3562 - accuracy: 0.8634 - val_loss: 1.1453 - val_accuracy: 0.6666\n",
            "Epoch 17/50\n",
            "394/394 [==============================] - 3s 9ms/step - loss: 0.2686 - accuracy: 0.8955 - val_loss: 1.7378 - val_accuracy: 0.6806\n",
            "Epoch 18/50\n",
            "394/394 [==============================] - 3s 9ms/step - loss: 0.2705 - accuracy: 0.8963 - val_loss: 1.9159 - val_accuracy: 0.6792\n",
            "Epoch 19/50\n",
            "394/394 [==============================] - 3s 9ms/step - loss: 0.2368 - accuracy: 0.9140 - val_loss: 1.5999 - val_accuracy: 0.6704\n",
            "Epoch 20/50\n",
            "394/394 [==============================] - 3s 9ms/step - loss: 0.2501 - accuracy: 0.9084 - val_loss: 1.3327 - val_accuracy: 0.6918\n",
            "Epoch 21/50\n",
            "394/394 [==============================] - 3s 9ms/step - loss: 0.2355 - accuracy: 0.9138 - val_loss: 1.5108 - val_accuracy: 0.6978\n",
            "Epoch 22/50\n",
            "394/394 [==============================] - 3s 9ms/step - loss: 0.2009 - accuracy: 0.9279 - val_loss: 1.7155 - val_accuracy: 0.6959\n",
            "Epoch 23/50\n",
            "394/394 [==============================] - 3s 9ms/step - loss: 0.2116 - accuracy: 0.9238 - val_loss: 1.4753 - val_accuracy: 0.6985\n",
            "Epoch 24/50\n",
            "394/394 [==============================] - 3s 9ms/step - loss: 0.1841 - accuracy: 0.9328 - val_loss: 1.8013 - val_accuracy: 0.6975\n",
            "Epoch 25/50\n",
            "394/394 [==============================] - 3s 9ms/step - loss: 0.1984 - accuracy: 0.9321 - val_loss: 1.7582 - val_accuracy: 0.6966\n",
            "Epoch 26/50\n",
            "394/394 [==============================] - 3s 9ms/step - loss: 0.1847 - accuracy: 0.9347 - val_loss: 2.0475 - val_accuracy: 0.6961\n",
            "Epoch 27/50\n",
            "394/394 [==============================] - 3s 9ms/step - loss: 0.1973 - accuracy: 0.9334 - val_loss: 1.4103 - val_accuracy: 0.6995\n",
            "Epoch 28/50\n",
            "394/394 [==============================] - 3s 9ms/step - loss: 0.1664 - accuracy: 0.9401 - val_loss: 1.7649 - val_accuracy: 0.7064\n",
            "Epoch 29/50\n",
            "394/394 [==============================] - 3s 9ms/step - loss: 0.1726 - accuracy: 0.9409 - val_loss: 2.3700 - val_accuracy: 0.6887\n",
            "Epoch 30/50\n",
            "394/394 [==============================] - 3s 9ms/step - loss: 0.1643 - accuracy: 0.9444 - val_loss: 1.8753 - val_accuracy: 0.7147\n",
            "Epoch 31/50\n",
            "394/394 [==============================] - 3s 9ms/step - loss: 0.1599 - accuracy: 0.9459 - val_loss: 1.4266 - val_accuracy: 0.7242\n",
            "Epoch 32/50\n",
            "394/394 [==============================] - 3s 9ms/step - loss: 0.1621 - accuracy: 0.9463 - val_loss: 2.1159 - val_accuracy: 0.7314\n",
            "Epoch 33/50\n",
            "394/394 [==============================] - 3s 9ms/step - loss: 0.1442 - accuracy: 0.9498 - val_loss: 1.8033 - val_accuracy: 0.7135\n",
            "Epoch 34/50\n",
            "394/394 [==============================] - 3s 9ms/step - loss: 0.1562 - accuracy: 0.9506 - val_loss: 2.0563 - val_accuracy: 0.7090\n",
            "Epoch 35/50\n",
            "394/394 [==============================] - 3s 9ms/step - loss: 0.1402 - accuracy: 0.9528 - val_loss: 2.0934 - val_accuracy: 0.7106\n",
            "Epoch 36/50\n",
            "394/394 [==============================] - 3s 9ms/step - loss: 0.1324 - accuracy: 0.9579 - val_loss: 1.6206 - val_accuracy: 0.7304\n",
            "Epoch 37/50\n",
            "394/394 [==============================] - 3s 9ms/step - loss: 0.1327 - accuracy: 0.9551 - val_loss: 2.0876 - val_accuracy: 0.7206\n",
            "Epoch 38/50\n",
            "394/394 [==============================] - 3s 9ms/step - loss: 0.1504 - accuracy: 0.9521 - val_loss: 1.5218 - val_accuracy: 0.7171\n",
            "Epoch 39/50\n",
            "394/394 [==============================] - 3s 9ms/step - loss: 0.1351 - accuracy: 0.9571 - val_loss: 1.8871 - val_accuracy: 0.7304\n",
            "Epoch 40/50\n",
            "394/394 [==============================] - 3s 9ms/step - loss: 0.1379 - accuracy: 0.9556 - val_loss: 2.3319 - val_accuracy: 0.7135\n",
            "Epoch 41/50\n",
            "394/394 [==============================] - 3s 9ms/step - loss: 0.1282 - accuracy: 0.9588 - val_loss: 2.3743 - val_accuracy: 0.7233\n",
            "Epoch 42/50\n",
            "394/394 [==============================] - 3s 9ms/step - loss: 0.1233 - accuracy: 0.9617 - val_loss: 1.6613 - val_accuracy: 0.7230\n"
          ],
          "name": "stdout"
        },
        {
          "output_type": "display_data",
          "data": {
            "text/html": [
              "<br/>Waiting for W&B process to finish, PID 489<br/>Program ended successfully."
            ],
            "text/plain": [
              "<IPython.core.display.HTML object>"
            ]
          },
          "metadata": {
            "tags": []
          }
        },
        {
          "output_type": "display_data",
          "data": {
            "application/vnd.jupyter.widget-view+json": {
              "model_id": "4f22db891f4b4ac7af20bd8b83287db7",
              "version_minor": 0,
              "version_major": 2
            },
            "text/plain": [
              "VBox(children=(Label(value=' 0.06MB of 0.06MB uploaded (0.00MB deduped)\\r'), FloatProgress(value=1.0, max=1.0)…"
            ]
          },
          "metadata": {
            "tags": []
          }
        },
        {
          "output_type": "display_data",
          "data": {
            "text/html": [
              "Find user logs for this run at: <code>/content/wandb/run-20210530_120027-2ajr0p2p/logs/debug.log</code>"
            ],
            "text/plain": [
              "<IPython.core.display.HTML object>"
            ]
          },
          "metadata": {
            "tags": []
          }
        },
        {
          "output_type": "display_data",
          "data": {
            "text/html": [
              "Find internal logs for this run at: <code>/content/wandb/run-20210530_120027-2ajr0p2p/logs/debug-internal.log</code>"
            ],
            "text/plain": [
              "<IPython.core.display.HTML object>"
            ]
          },
          "metadata": {
            "tags": []
          }
        },
        {
          "output_type": "display_data",
          "data": {
            "text/html": [
              "<h3>Run summary:</h3><br/><style>\n",
              "    table.wandb td:nth-child(1) { padding: 0 10px; text-align: right }\n",
              "    </style><table class=\"wandb\">\n",
              "<tr><td>epoch</td><td>41</td></tr><tr><td>loss</td><td>0.1233</td></tr><tr><td>accuracy</td><td>0.96165</td></tr><tr><td>val_loss</td><td>1.66134</td></tr><tr><td>val_accuracy</td><td>0.72303</td></tr><tr><td>_runtime</td><td>186</td></tr><tr><td>_timestamp</td><td>1622376213</td></tr><tr><td>_step</td><td>41</td></tr><tr><td>best_val_accuracy</td><td>0.73136</td></tr><tr><td>best_epoch</td><td>31</td></tr></table>"
            ],
            "text/plain": [
              "<IPython.core.display.HTML object>"
            ]
          },
          "metadata": {
            "tags": []
          }
        },
        {
          "output_type": "display_data",
          "data": {
            "text/html": [
              "<h3>Run history:</h3><br/><style>\n",
              "    table.wandb td:nth-child(1) { padding: 0 10px; text-align: right }\n",
              "    </style><table class=\"wandb\">\n",
              "<tr><td>epoch</td><td>▁▁▁▂▂▂▂▂▂▃▃▃▃▃▃▄▄▄▄▄▅▅▅▅▅▅▆▆▆▆▆▆▇▇▇▇▇▇██</td></tr><tr><td>loss</td><td>███▇▇▆▆▅▅▄▄▃▃▃▃▃▂▂▂▂▂▂▁▂▁▂▁▁▁▁▁▁▁▁▁▁▁▁▁▁</td></tr><tr><td>accuracy</td><td>▁▁▂▂▃▃▄▅▅▅▆▆▆▇▇▇▇▇▇▇████████████████████</td></tr><tr><td>val_loss</td><td>▁▂▁▂█▁▃▂▃▁▂▂▂▂▂▁▂▃▂▂▂▂▂▂▃▂▂▃▃▂▃▂▃▃▂▃▂▃▃▂</td></tr><tr><td>val_accuracy</td><td>▂▁▂▂▂▃▃▄▅▆▆▆▇▇▆▇▇▇▇▇▇▇▇▇▇▇█▇████████████</td></tr><tr><td>_runtime</td><td>▁▁▁▁▂▂▂▂▂▃▃▃▃▃▃▄▄▄▄▄▅▅▅▅▅▅▆▆▆▆▆▆▇▇▇▇▇███</td></tr><tr><td>_timestamp</td><td>▁▁▁▁▂▂▂▂▂▃▃▃▃▃▃▄▄▄▄▄▅▅▅▅▅▅▆▆▆▆▆▆▇▇▇▇▇███</td></tr><tr><td>_step</td><td>▁▁▁▂▂▂▂▂▂▃▃▃▃▃▃▄▄▄▄▄▅▅▅▅▅▅▆▆▆▆▆▆▇▇▇▇▇▇██</td></tr></table><br/>"
            ],
            "text/plain": [
              "<IPython.core.display.HTML object>"
            ]
          },
          "metadata": {
            "tags": []
          }
        },
        {
          "output_type": "display_data",
          "data": {
            "text/html": [
              "Synced 5 W&B file(s), 1 media file(s), 0 artifact file(s) and 1 other file(s)"
            ],
            "text/plain": [
              "<IPython.core.display.HTML object>"
            ]
          },
          "metadata": {
            "tags": []
          }
        },
        {
          "output_type": "display_data",
          "data": {
            "text/html": [
              "\n",
              "                    <br/>Synced <strong style=\"color:#cdcd00\">spring-star-1</strong>: <a href=\"https://wandb.ai/vtzc630/encrypt_text_1dcnn/runs/2ajr0p2p\" target=\"_blank\">https://wandb.ai/vtzc630/encrypt_text_1dcnn/runs/2ajr0p2p</a><br/>\n",
              "                "
            ],
            "text/plain": [
              "<IPython.core.display.HTML object>"
            ]
          },
          "metadata": {
            "tags": []
          }
        }
      ]
    },
    {
      "cell_type": "markdown",
      "metadata": {
        "id": "iYJUNQFT-6K1"
      },
      "source": [
        "# BiLSTM"
      ]
    },
    {
      "cell_type": "code",
      "metadata": {
        "colab": {
          "base_uri": "https://localhost:8080/",
          "height": 1000,
          "referenced_widgets": [
            "78ba6046efcf41f38071f0d7b9099fd7",
            "05faa5aef0fe46baa7e47b0fdddf9dab",
            "bec1d56604c04541b2e1140748aab676",
            "0a5997ab059c42759b2e89998a98c9d1",
            "4e49a92f0107417ba91cc6b00efe7653",
            "7eb5c5a983f84b8ea93948932cdd6ccc",
            "e73b79c0e2e54ff6b9251a14f2b59898",
            "1586c99f1f8f4cfbad160831ed7eb21b"
          ]
        },
        "id": "YZhu5GJlANWm",
        "outputId": "e2ec65af-38f4-4d44-90d9-18a67c68f460"
      },
      "source": [
        "# max_embedding_len = 250\n",
        "config = {'optimizer':'adam',\n",
        "          'learning_rate': 0.01,\n",
        "          'loss': 'sparse_categorical_crossentropy',\n",
        "          'batch_size': 32,\n",
        "          'epochs': 30,\n",
        "          'model_params':{'input_size': max_sequence_len,\n",
        "                          'num_classes': 3,\n",
        "                          'embedding_size': 100,\n",
        "                          'dropout_p': 0.5,\n",
        "                          'vocab_size': 38,\n",
        "                          'batch_normalisation': True,\n",
        "                          'bilstm_layers': [[16,0]],\n",
        "                          'dense_layers': [1024]}}\n",
        "run = wandb.init(project='encrypt_text_bilstm', config=config)\n",
        "config = wandb.config \n",
        "\n",
        "# Initialize model like you usually do.\n",
        "tf.keras.backend.clear_session()\n",
        "\n",
        "model = BiLSTMModel(**config['model_params'])\n",
        "model = model.build_model()\n",
        "optimizer = Adam(learning_rate=config['learning_rate'])\n",
        "model.compile(optimizer=optimizer, \n",
        "              loss=config['loss'], \n",
        "              metrics=['accuracy'])\n",
        "model.summary()\n",
        "\n",
        "# callbacks\n",
        "early_stopping = EarlyStopping(monitor='val_accuracy', patience=5)\n",
        "wandb_callback = WandbCallback(monitor='val_accuracy',save_weights_only=True)\n",
        "\n",
        "# Training\n",
        "history = model.fit(X_train, \n",
        "                    y_train,\n",
        "                    validation_data=(X_val,y_val),\n",
        "                    batch_size=config['batch_size'],\n",
        "                    epochs=config['epochs'],\n",
        "                    callbacks=[wandb_callback, early_stopping])\n",
        "\n",
        "run.join()"
      ],
      "execution_count": 7,
      "outputs": [
        {
          "output_type": "display_data",
          "data": {
            "text/html": [
              "\n",
              "                Tracking run with wandb version 0.10.31<br/>\n",
              "                Syncing run <strong style=\"color:#cdcd00\">comic-fire-1</strong> to <a href=\"https://wandb.ai\" target=\"_blank\">Weights & Biases</a> <a href=\"https://docs.wandb.com/integrations/jupyter.html\" target=\"_blank\">(Documentation)</a>.<br/>\n",
              "                Project page: <a href=\"https://wandb.ai/vtzc630/encrypt_text_bilstm\" target=\"_blank\">https://wandb.ai/vtzc630/encrypt_text_bilstm</a><br/>\n",
              "                Run page: <a href=\"https://wandb.ai/vtzc630/encrypt_text_bilstm/runs/3g0gq1wc\" target=\"_blank\">https://wandb.ai/vtzc630/encrypt_text_bilstm/runs/3g0gq1wc</a><br/>\n",
              "                Run data is saved locally in <code>/content/wandb/run-20210530_120356-3g0gq1wc</code><br/><br/>\n",
              "            "
            ],
            "text/plain": [
              "<IPython.core.display.HTML object>"
            ]
          },
          "metadata": {
            "tags": []
          }
        },
        {
          "output_type": "stream",
          "text": [
            "Model: \"model\"\n",
            "_________________________________________________________________\n",
            "Layer (type)                 Output Shape              Param #   \n",
            "=================================================================\n",
            "input_1 (InputLayer)         [(None, 250)]             0         \n",
            "_________________________________________________________________\n",
            "embedding (Embedding)        (None, 250, 100)          3800      \n",
            "_________________________________________________________________\n",
            "bidirectional (Bidirectional (None, 250, 32)           14976     \n",
            "_________________________________________________________________\n",
            "bidirectional_1 (Bidirection (None, 32)                6272      \n",
            "_________________________________________________________________\n",
            "batch_normalization (BatchNo (None, 32)                128       \n",
            "_________________________________________________________________\n",
            "dense (Dense)                (None, 1024)              33792     \n",
            "_________________________________________________________________\n",
            "dropout (Dropout)            (None, 1024)              0         \n",
            "_________________________________________________________________\n",
            "dense_1 (Dense)              (None, 3)                 3075      \n",
            "=================================================================\n",
            "Total params: 62,043\n",
            "Trainable params: 61,979\n",
            "Non-trainable params: 64\n",
            "_________________________________________________________________\n",
            "Epoch 1/30\n",
            "394/394 [==============================] - 22s 40ms/step - loss: 1.1091 - accuracy: 0.3549 - val_loss: 1.0924 - val_accuracy: 0.3470\n",
            "Epoch 2/30\n",
            "394/394 [==============================] - 15s 39ms/step - loss: 1.0995 - accuracy: 0.3517 - val_loss: 1.1133 - val_accuracy: 0.3634\n",
            "Epoch 3/30\n",
            "394/394 [==============================] - 15s 39ms/step - loss: 1.0986 - accuracy: 0.3589 - val_loss: 1.0990 - val_accuracy: 0.3334\n",
            "Epoch 4/30\n",
            "394/394 [==============================] - 15s 39ms/step - loss: 1.0973 - accuracy: 0.3610 - val_loss: 1.0881 - val_accuracy: 0.3763\n",
            "Epoch 5/30\n",
            "394/394 [==============================] - 15s 38ms/step - loss: 1.0984 - accuracy: 0.3531 - val_loss: 1.0931 - val_accuracy: 0.3637\n",
            "Epoch 6/30\n",
            "394/394 [==============================] - 15s 39ms/step - loss: 1.1016 - accuracy: 0.3533 - val_loss: 1.0906 - val_accuracy: 0.3634\n",
            "Epoch 7/30\n",
            "394/394 [==============================] - 15s 38ms/step - loss: 1.0948 - accuracy: 0.3517 - val_loss: 1.0945 - val_accuracy: 0.3634\n",
            "Epoch 8/30\n",
            "394/394 [==============================] - 15s 39ms/step - loss: 1.0958 - accuracy: 0.3582 - val_loss: 1.0932 - val_accuracy: 0.3799\n",
            "Epoch 9/30\n",
            "394/394 [==============================] - 15s 38ms/step - loss: 1.0951 - accuracy: 0.3594 - val_loss: 1.0920 - val_accuracy: 0.3663\n",
            "Epoch 10/30\n",
            "394/394 [==============================] - 15s 39ms/step - loss: 1.0941 - accuracy: 0.3605 - val_loss: 1.0886 - val_accuracy: 0.3634\n",
            "Epoch 11/30\n",
            "394/394 [==============================] - 15s 37ms/step - loss: 1.0942 - accuracy: 0.3562 - val_loss: 1.0906 - val_accuracy: 0.3634\n",
            "Epoch 12/30\n",
            "394/394 [==============================] - 15s 39ms/step - loss: 1.0965 - accuracy: 0.3530 - val_loss: 1.0956 - val_accuracy: 0.3634\n",
            "Epoch 13/30\n",
            "394/394 [==============================] - 15s 39ms/step - loss: 1.0948 - accuracy: 0.3548 - val_loss: 1.0865 - val_accuracy: 0.3839\n",
            "Epoch 14/30\n",
            "394/394 [==============================] - 15s 39ms/step - loss: 1.0947 - accuracy: 0.3506 - val_loss: 15.8032 - val_accuracy: 0.3632\n",
            "Epoch 15/30\n",
            "394/394 [==============================] - 15s 38ms/step - loss: 1.1111 - accuracy: 0.3507 - val_loss: 1.0932 - val_accuracy: 0.3620\n",
            "Epoch 16/30\n",
            "394/394 [==============================] - 15s 37ms/step - loss: 1.1102 - accuracy: 0.3553 - val_loss: 8.0798 - val_accuracy: 0.3634\n",
            "Epoch 17/30\n",
            "394/394 [==============================] - 15s 38ms/step - loss: 1.0970 - accuracy: 0.3548 - val_loss: 1.0895 - val_accuracy: 0.3644\n",
            "Epoch 18/30\n",
            "394/394 [==============================] - 15s 38ms/step - loss: 1.0965 - accuracy: 0.3498 - val_loss: 1.0951 - val_accuracy: 0.3427\n"
          ],
          "name": "stdout"
        },
        {
          "output_type": "display_data",
          "data": {
            "text/html": [
              "<br/>Waiting for W&B process to finish, PID 715<br/>Program ended successfully."
            ],
            "text/plain": [
              "<IPython.core.display.HTML object>"
            ]
          },
          "metadata": {
            "tags": []
          }
        },
        {
          "output_type": "display_data",
          "data": {
            "application/vnd.jupyter.widget-view+json": {
              "model_id": "78ba6046efcf41f38071f0d7b9099fd7",
              "version_minor": 0,
              "version_major": 2
            },
            "text/plain": [
              "VBox(children=(Label(value=' 0.27MB of 0.27MB uploaded (0.00MB deduped)\\r'), FloatProgress(value=1.0, max=1.0)…"
            ]
          },
          "metadata": {
            "tags": []
          }
        },
        {
          "output_type": "display_data",
          "data": {
            "text/html": [
              "Find user logs for this run at: <code>/content/wandb/run-20210530_120356-3g0gq1wc/logs/debug.log</code>"
            ],
            "text/plain": [
              "<IPython.core.display.HTML object>"
            ]
          },
          "metadata": {
            "tags": []
          }
        },
        {
          "output_type": "display_data",
          "data": {
            "text/html": [
              "Find internal logs for this run at: <code>/content/wandb/run-20210530_120356-3g0gq1wc/logs/debug-internal.log</code>"
            ],
            "text/plain": [
              "<IPython.core.display.HTML object>"
            ]
          },
          "metadata": {
            "tags": []
          }
        },
        {
          "output_type": "display_data",
          "data": {
            "text/html": [
              "<h3>Run summary:</h3><br/><style>\n",
              "    table.wandb td:nth-child(1) { padding: 0 10px; text-align: right }\n",
              "    </style><table class=\"wandb\">\n",
              "<tr><td>epoch</td><td>17</td></tr><tr><td>loss</td><td>1.09654</td></tr><tr><td>accuracy</td><td>0.34982</td></tr><tr><td>val_loss</td><td>1.09505</td></tr><tr><td>val_accuracy</td><td>0.3427</td></tr><tr><td>_runtime</td><td>282</td></tr><tr><td>_timestamp</td><td>1622376518</td></tr><tr><td>_step</td><td>17</td></tr><tr><td>best_val_accuracy</td><td>0.3839</td></tr><tr><td>best_epoch</td><td>12</td></tr></table>"
            ],
            "text/plain": [
              "<IPython.core.display.HTML object>"
            ]
          },
          "metadata": {
            "tags": []
          }
        },
        {
          "output_type": "display_data",
          "data": {
            "text/html": [
              "<h3>Run history:</h3><br/><style>\n",
              "    table.wandb td:nth-child(1) { padding: 0 10px; text-align: right }\n",
              "    </style><table class=\"wandb\">\n",
              "<tr><td>epoch</td><td>▁▁▂▂▃▃▃▄▄▅▅▆▆▆▇▇██</td></tr><tr><td>loss</td><td>▇▃▃▂▃▄▁▂▁▁▁▂▁▁██▂▂</td></tr><tr><td>accuracy</td><td>▄▂▇█▃▃▂▆▇█▅▃▄▁▂▄▄▁</td></tr><tr><td>val_loss</td><td>▁▁▁▁▁▁▁▁▁▁▁▁▁█▁▄▁▁</td></tr><tr><td>val_accuracy</td><td>▃▅▁▇▅▅▅▇▆▅▅▅█▅▅▅▅▂</td></tr><tr><td>_runtime</td><td>▁▁▂▂▃▃▃▄▄▅▅▆▆▆▇▇██</td></tr><tr><td>_timestamp</td><td>▁▁▂▂▃▃▃▄▄▅▅▆▆▆▇▇██</td></tr><tr><td>_step</td><td>▁▁▂▂▃▃▃▄▄▅▅▆▆▆▇▇██</td></tr></table><br/>"
            ],
            "text/plain": [
              "<IPython.core.display.HTML object>"
            ]
          },
          "metadata": {
            "tags": []
          }
        },
        {
          "output_type": "display_data",
          "data": {
            "text/html": [
              "Synced 5 W&B file(s), 1 media file(s), 0 artifact file(s) and 1 other file(s)"
            ],
            "text/plain": [
              "<IPython.core.display.HTML object>"
            ]
          },
          "metadata": {
            "tags": []
          }
        },
        {
          "output_type": "display_data",
          "data": {
            "text/html": [
              "\n",
              "                    <br/>Synced <strong style=\"color:#cdcd00\">comic-fire-1</strong>: <a href=\"https://wandb.ai/vtzc630/encrypt_text_bilstm/runs/3g0gq1wc\" target=\"_blank\">https://wandb.ai/vtzc630/encrypt_text_bilstm/runs/3g0gq1wc</a><br/>\n",
              "                "
            ],
            "text/plain": [
              "<IPython.core.display.HTML object>"
            ]
          },
          "metadata": {
            "tags": []
          }
        }
      ]
    }
  ]
}